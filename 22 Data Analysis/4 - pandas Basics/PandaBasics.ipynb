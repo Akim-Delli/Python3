{
 "worksheets": [
  {
   "cells": [
    {
     "cell_type": "code",
     "execution_count": null,
     "metadata": {},
     "outputs": [
      {
       "output_type": "stream",
       "stream": "stdout",
       "text": [
        "3.4.1 |Anaconda 2.1.0 (x86_64)| (default, Sep 10 2014, 17:24:09) \n",
        "[GCC 4.2.1 (Apple Inc. build 5577)]\n",
        "0.14.1\n"
       ]
      }
     ],
     "input": [
      "import sys\n",
      "import numpy as np\n",
      "import pandas as pd\n",
      "print(sys.version)\n",
      "print(pd.__version__)"
     ],
     "language": "python",
     "prompt_number": 1
    },
    {
     "cell_type": "code",
     "execution_count": null,
     "metadata": {},
     "outputs": [
      {
       "output_type": "pyout",
       "prompt_number": 2,
       "text": [
        "pandas.core.index.Index"
       ],
       "metadata": {}
      }
     ],
     "input": [
      "pd.Index"
     ],
     "language": "python",
     "prompt_number": 2
    },
    {
     "cell_type": "code",
     "execution_count": null,
     "metadata": {},
     "outputs": [
      {
       "output_type": "pyout",
       "prompt_number": 3,
       "text": [
        "pandas.core.series.Series"
       ],
       "metadata": {}
      }
     ],
     "input": [
      "pd.Series"
     ],
     "language": "python",
     "prompt_number": 3
    },
    {
     "cell_type": "code",
     "execution_count": null,
     "metadata": {},
     "outputs": [],
     "input": [
      "series_ex = pd.Series(np.arange(26))"
     ],
     "language": "python",
     "prompt_number": 13
    },
    {
     "cell_type": "code",
     "execution_count": null,
     "metadata": {},
     "outputs": [
      {
       "output_type": "pyout",
       "prompt_number": 14,
       "text": [
        "0      0\n",
        "1      1\n",
        "2      2\n",
        "3      3\n",
        "4      4\n",
        "5      5\n",
        "6      6\n",
        "7      7\n",
        "8      8\n",
        "9      9\n",
        "10    10\n",
        "11    11\n",
        "12    12\n",
        "13    13\n",
        "14    14\n",
        "15    15\n",
        "16    16\n",
        "17    17\n",
        "18    18\n",
        "19    19\n",
        "20    20\n",
        "21    21\n",
        "22    22\n",
        "23    23\n",
        "24    24\n",
        "25    25\n",
        "dtype: int64"
       ],
       "metadata": {}
      }
     ],
     "input": [
      "series_ex"
     ],
     "language": "python",
     "prompt_number": 14
    },
    {
     "cell_type": "code",
     "execution_count": null,
     "metadata": {},
     "outputs": [
      {
       "output_type": "pyout",
       "prompt_number": 15,
       "text": [
        "Int64Index([0, 1, 2, 3, 4, 5, 6, 7, 8, 9, 10, 11, 12, 13, 14, 15, 16, 17, 18, 19, 20, 21, 22, 23, 24, 25], dtype='int64')"
       ],
       "metadata": {}
      }
     ],
     "input": [
      "series_ex.index"
     ],
     "language": "python",
     "prompt_number": 15
    },
    {
     "cell_type": "code",
     "execution_count": null,
     "metadata": {},
     "outputs": [
      {
       "output_type": "stream",
       "stream": "stdout",
       "text": [
        "abcdefghijklmnopqrstuvwxyz ABCDEFGHIJKLMNOPQRSTUVWXYZ\n"
       ]
      }
     ],
     "input": [
      "import string\n",
      "lcase = string.ascii_lowercase\n",
      "ucase = string.ascii_uppercase\n",
      "print(lcase, ucase)"
     ],
     "language": "python",
     "prompt_number": 16
    },
    {
     "cell_type": "code",
     "execution_count": null,
     "metadata": {},
     "outputs": [],
     "input": [
      "lcase = list(lcase)\n",
      "series_ex.index = lcase"
     ],
     "language": "python",
     "prompt_number": 17
    },
    {
     "cell_type": "code",
     "execution_count": null,
     "metadata": {},
     "outputs": [
      {
       "output_type": "pyout",
       "prompt_number": 18,
       "text": [
        "a     0\n",
        "b     1\n",
        "c     2\n",
        "d     3\n",
        "e     4\n",
        "f     5\n",
        "g     6\n",
        "h     7\n",
        "i     8\n",
        "j     9\n",
        "k    10\n",
        "l    11\n",
        "m    12\n",
        "n    13\n",
        "o    14\n",
        "p    15\n",
        "q    16\n",
        "r    17\n",
        "s    18\n",
        "t    19\n",
        "u    20\n",
        "v    21\n",
        "w    22\n",
        "x    23\n",
        "y    24\n",
        "z    25\n",
        "dtype: int64"
       ],
       "metadata": {}
      }
     ],
     "input": [
      "series_ex"
     ],
     "language": "python",
     "prompt_number": 18
    },
    {
     "cell_type": "code",
     "execution_count": null,
     "metadata": {},
     "outputs": [
      {
       "output_type": "pyout",
       "prompt_number": 19,
       "text": [
        "d     3\n",
        "e     4\n",
        "f     5\n",
        "g     6\n",
        "h     7\n",
        "i     8\n",
        "j     9\n",
        "k    10\n",
        "dtype: int64"
       ],
       "metadata": {}
      }
     ],
     "input": [
      "series_ex.ix['d':'k']"
     ],
     "language": "python",
     "prompt_number": 19
    },
    {
     "cell_type": "code",
     "execution_count": null,
     "metadata": {},
     "outputs": [
      {
       "output_type": "pyout",
       "prompt_number": 20,
       "text": [
        "pandas.core.frame.DataFrame"
       ],
       "metadata": {}
      }
     ],
     "input": [
      "pd.DataFrame"
     ],
     "language": "python",
     "prompt_number": 20
    },
    {
     "cell_type": "code",
     "execution_count": null,
     "metadata": {},
     "outputs": [],
     "input": [
      "letters = pd.DataFrame([lcase, list(ucase), list(range(26))])"
     ],
     "language": "python",
     "prompt_number": 23
    },
    {
     "cell_type": "code",
     "execution_count": null,
     "metadata": {},
     "outputs": [
      {
       "output_type": "pyout",
       "html": [
        "<div style=\"max-height:1000px;max-width:1500px;overflow:auto;\">\n",
        "<table border=\"1\" class=\"dataframe\">\n",
        "  <thead>\n",
        "    <tr style=\"text-align: right;\">\n",
        "      <th></th>\n",
        "      <th>0</th>\n",
        "      <th>1</th>\n",
        "      <th>2</th>\n",
        "      <th>3</th>\n",
        "      <th>4</th>\n",
        "      <th>5</th>\n",
        "      <th>6</th>\n",
        "      <th>7</th>\n",
        "      <th>8</th>\n",
        "      <th>9</th>\n",
        "      <th>...</th>\n",
        "      <th>16</th>\n",
        "      <th>17</th>\n",
        "      <th>18</th>\n",
        "      <th>19</th>\n",
        "      <th>20</th>\n",
        "      <th>21</th>\n",
        "      <th>22</th>\n",
        "      <th>23</th>\n",
        "      <th>24</th>\n",
        "      <th>25</th>\n",
        "    </tr>\n",
        "  </thead>\n",
        "  <tbody>\n",
        "    <tr>\n",
        "      <th>0</th>\n",
        "      <td> a</td>\n",
        "      <td> b</td>\n",
        "      <td> c</td>\n",
        "      <td> d</td>\n",
        "      <td> e</td>\n",
        "      <td> f</td>\n",
        "      <td> g</td>\n",
        "      <td> h</td>\n",
        "      <td> i</td>\n",
        "      <td> j</td>\n",
        "      <td>...</td>\n",
        "      <td>  q</td>\n",
        "      <td>  r</td>\n",
        "      <td>  s</td>\n",
        "      <td>  t</td>\n",
        "      <td>  u</td>\n",
        "      <td>  v</td>\n",
        "      <td>  w</td>\n",
        "      <td>  x</td>\n",
        "      <td>  y</td>\n",
        "      <td>  z</td>\n",
        "    </tr>\n",
        "    <tr>\n",
        "      <th>1</th>\n",
        "      <td> A</td>\n",
        "      <td> B</td>\n",
        "      <td> C</td>\n",
        "      <td> D</td>\n",
        "      <td> E</td>\n",
        "      <td> F</td>\n",
        "      <td> G</td>\n",
        "      <td> H</td>\n",
        "      <td> I</td>\n",
        "      <td> J</td>\n",
        "      <td>...</td>\n",
        "      <td>  Q</td>\n",
        "      <td>  R</td>\n",
        "      <td>  S</td>\n",
        "      <td>  T</td>\n",
        "      <td>  U</td>\n",
        "      <td>  V</td>\n",
        "      <td>  W</td>\n",
        "      <td>  X</td>\n",
        "      <td>  Y</td>\n",
        "      <td>  Z</td>\n",
        "    </tr>\n",
        "    <tr>\n",
        "      <th>2</th>\n",
        "      <td> 0</td>\n",
        "      <td> 1</td>\n",
        "      <td> 2</td>\n",
        "      <td> 3</td>\n",
        "      <td> 4</td>\n",
        "      <td> 5</td>\n",
        "      <td> 6</td>\n",
        "      <td> 7</td>\n",
        "      <td> 8</td>\n",
        "      <td> 9</td>\n",
        "      <td>...</td>\n",
        "      <td> 16</td>\n",
        "      <td> 17</td>\n",
        "      <td> 18</td>\n",
        "      <td> 19</td>\n",
        "      <td> 20</td>\n",
        "      <td> 21</td>\n",
        "      <td> 22</td>\n",
        "      <td> 23</td>\n",
        "      <td> 24</td>\n",
        "      <td> 25</td>\n",
        "    </tr>\n",
        "  </tbody>\n",
        "</table>\n",
        "<p>3 rows × 26 columns</p>\n",
        "</div>"
       ],
       "metadata": {}
      }
     ],
     "input": [
      "letters"
     ],
     "language": "python",
     "prompt_number": 24
    },
    {
     "cell_type": "code",
     "execution_count": null,
     "metadata": {},
     "outputs": [
      {
       "output_type": "pyout",
       "html": [
        "<div style=\"max-height:1000px;max-width:1500px;overflow:auto;\">\n",
        "<table border=\"1\" class=\"dataframe\">\n",
        "  <thead>\n",
        "    <tr style=\"text-align: right;\">\n",
        "      <th></th>\n",
        "      <th>0</th>\n",
        "      <th>1</th>\n",
        "      <th>2</th>\n",
        "      <th>3</th>\n",
        "      <th>4</th>\n",
        "      <th>5</th>\n",
        "      <th>6</th>\n",
        "      <th>7</th>\n",
        "      <th>8</th>\n",
        "      <th>9</th>\n",
        "      <th>...</th>\n",
        "      <th>16</th>\n",
        "      <th>17</th>\n",
        "      <th>18</th>\n",
        "      <th>19</th>\n",
        "      <th>20</th>\n",
        "      <th>21</th>\n",
        "      <th>22</th>\n",
        "      <th>23</th>\n",
        "      <th>24</th>\n",
        "      <th>25</th>\n",
        "    </tr>\n",
        "  </thead>\n",
        "  <tbody>\n",
        "    <tr>\n",
        "      <th>0</th>\n",
        "      <td> a</td>\n",
        "      <td> b</td>\n",
        "      <td> c</td>\n",
        "      <td> d</td>\n",
        "      <td> e</td>\n",
        "      <td> f</td>\n",
        "      <td> g</td>\n",
        "      <td> h</td>\n",
        "      <td> i</td>\n",
        "      <td> j</td>\n",
        "      <td>...</td>\n",
        "      <td>  q</td>\n",
        "      <td>  r</td>\n",
        "      <td>  s</td>\n",
        "      <td>  t</td>\n",
        "      <td>  u</td>\n",
        "      <td>  v</td>\n",
        "      <td>  w</td>\n",
        "      <td>  x</td>\n",
        "      <td>  y</td>\n",
        "      <td>  z</td>\n",
        "    </tr>\n",
        "    <tr>\n",
        "      <th>1</th>\n",
        "      <td> A</td>\n",
        "      <td> B</td>\n",
        "      <td> C</td>\n",
        "      <td> D</td>\n",
        "      <td> E</td>\n",
        "      <td> F</td>\n",
        "      <td> G</td>\n",
        "      <td> H</td>\n",
        "      <td> I</td>\n",
        "      <td> J</td>\n",
        "      <td>...</td>\n",
        "      <td>  Q</td>\n",
        "      <td>  R</td>\n",
        "      <td>  S</td>\n",
        "      <td>  T</td>\n",
        "      <td>  U</td>\n",
        "      <td>  V</td>\n",
        "      <td>  W</td>\n",
        "      <td>  X</td>\n",
        "      <td>  Y</td>\n",
        "      <td>  Z</td>\n",
        "    </tr>\n",
        "    <tr>\n",
        "      <th>2</th>\n",
        "      <td> 0</td>\n",
        "      <td> 1</td>\n",
        "      <td> 2</td>\n",
        "      <td> 3</td>\n",
        "      <td> 4</td>\n",
        "      <td> 5</td>\n",
        "      <td> 6</td>\n",
        "      <td> 7</td>\n",
        "      <td> 8</td>\n",
        "      <td> 9</td>\n",
        "      <td>...</td>\n",
        "      <td> 16</td>\n",
        "      <td> 17</td>\n",
        "      <td> 18</td>\n",
        "      <td> 19</td>\n",
        "      <td> 20</td>\n",
        "      <td> 21</td>\n",
        "      <td> 22</td>\n",
        "      <td> 23</td>\n",
        "      <td> 24</td>\n",
        "      <td> 25</td>\n",
        "    </tr>\n",
        "  </tbody>\n",
        "</table>\n",
        "<p>3 rows × 26 columns</p>\n",
        "</div>"
       ],
       "metadata": {}
      }
     ],
     "input": [
      "letters.head()"
     ],
     "language": "python",
     "prompt_number": 25
    },
    {
     "cell_type": "code",
     "execution_count": null,
     "metadata": {},
     "outputs": [],
     "input": [
      "letters = letters.transpose()"
     ],
     "language": "python",
     "prompt_number": 26
    },
    {
     "cell_type": "code",
     "execution_count": null,
     "metadata": {},
     "outputs": [
      {
       "output_type": "pyout",
       "html": [
        "<div style=\"max-height:1000px;max-width:1500px;overflow:auto;\">\n",
        "<table border=\"1\" class=\"dataframe\">\n",
        "  <thead>\n",
        "    <tr style=\"text-align: right;\">\n",
        "      <th></th>\n",
        "      <th>0</th>\n",
        "      <th>1</th>\n",
        "      <th>2</th>\n",
        "    </tr>\n",
        "  </thead>\n",
        "  <tbody>\n",
        "    <tr>\n",
        "      <th>0</th>\n",
        "      <td> a</td>\n",
        "      <td> A</td>\n",
        "      <td> 0</td>\n",
        "    </tr>\n",
        "    <tr>\n",
        "      <th>1</th>\n",
        "      <td> b</td>\n",
        "      <td> B</td>\n",
        "      <td> 1</td>\n",
        "    </tr>\n",
        "    <tr>\n",
        "      <th>2</th>\n",
        "      <td> c</td>\n",
        "      <td> C</td>\n",
        "      <td> 2</td>\n",
        "    </tr>\n",
        "    <tr>\n",
        "      <th>3</th>\n",
        "      <td> d</td>\n",
        "      <td> D</td>\n",
        "      <td> 3</td>\n",
        "    </tr>\n",
        "    <tr>\n",
        "      <th>4</th>\n",
        "      <td> e</td>\n",
        "      <td> E</td>\n",
        "      <td> 4</td>\n",
        "    </tr>\n",
        "  </tbody>\n",
        "</table>\n",
        "</div>"
       ],
       "metadata": {}
      }
     ],
     "input": [
      "letters.head()"
     ],
     "language": "python",
     "prompt_number": 27
    },
    {
     "cell_type": "code",
     "execution_count": null,
     "metadata": {},
     "outputs": [
      {
       "output_type": "pyout",
       "prompt_number": 28,
       "text": [
        "Int64Index([0, 1, 2], dtype='int64')"
       ],
       "metadata": {}
      }
     ],
     "input": [
      "letters.columns"
     ],
     "language": "python",
     "prompt_number": 28
    },
    {
     "cell_type": "code",
     "execution_count": null,
     "metadata": {},
     "outputs": [
      {
       "output_type": "pyout",
       "prompt_number": 29,
       "text": [
        "Int64Index([0, 1, 2, 3, 4, 5, 6, 7, 8, 9, 10, 11, 12, 13, 14, 15, 16, 17, 18, 19, 20, 21, 22, 23, 24, 25], dtype='int64')"
       ],
       "metadata": {}
      }
     ],
     "input": [
      "letters.index"
     ],
     "language": "python",
     "prompt_number": 29
    },
    {
     "cell_type": "code",
     "execution_count": null,
     "metadata": {},
     "outputs": [],
     "input": [
      "letters.columns = ['lowercase', 'uppercase', 'numbers']"
     ],
     "language": "python",
     "prompt_number": 30
    },
    {
     "cell_type": "code",
     "execution_count": null,
     "metadata": {},
     "outputs": [
      {
       "output_type": "pyout",
       "html": [
        "<div style=\"max-height:1000px;max-width:1500px;overflow:auto;\">\n",
        "<table border=\"1\" class=\"dataframe\">\n",
        "  <thead>\n",
        "    <tr style=\"text-align: right;\">\n",
        "      <th></th>\n",
        "      <th>lowercase</th>\n",
        "      <th>uppercase</th>\n",
        "      <th>numbers</th>\n",
        "    </tr>\n",
        "  </thead>\n",
        "  <tbody>\n",
        "    <tr>\n",
        "      <th>0</th>\n",
        "      <td> a</td>\n",
        "      <td> A</td>\n",
        "      <td> 0</td>\n",
        "    </tr>\n",
        "    <tr>\n",
        "      <th>1</th>\n",
        "      <td> b</td>\n",
        "      <td> B</td>\n",
        "      <td> 1</td>\n",
        "    </tr>\n",
        "    <tr>\n",
        "      <th>2</th>\n",
        "      <td> c</td>\n",
        "      <td> C</td>\n",
        "      <td> 2</td>\n",
        "    </tr>\n",
        "    <tr>\n",
        "      <th>3</th>\n",
        "      <td> d</td>\n",
        "      <td> D</td>\n",
        "      <td> 3</td>\n",
        "    </tr>\n",
        "    <tr>\n",
        "      <th>4</th>\n",
        "      <td> e</td>\n",
        "      <td> E</td>\n",
        "      <td> 4</td>\n",
        "    </tr>\n",
        "  </tbody>\n",
        "</table>\n",
        "</div>"
       ],
       "metadata": {}
      }
     ],
     "input": [
      "letters.head()"
     ],
     "language": "python",
     "prompt_number": 31
    },
    {
     "cell_type": "code",
     "execution_count": null,
     "metadata": {},
     "outputs": [
      {
       "output_type": "pyout",
       "prompt_number": 32,
       "text": [
        "0     a\n",
        "1     b\n",
        "2     c\n",
        "3     d\n",
        "4     e\n",
        "5     f\n",
        "6     g\n",
        "7     h\n",
        "8     i\n",
        "9     j\n",
        "10    k\n",
        "11    l\n",
        "12    m\n",
        "13    n\n",
        "14    o\n",
        "15    p\n",
        "16    q\n",
        "17    r\n",
        "18    s\n",
        "19    t\n",
        "20    u\n",
        "21    v\n",
        "22    w\n",
        "23    x\n",
        "24    y\n",
        "25    z\n",
        "Name: lowercase, dtype: object"
       ],
       "metadata": {}
      }
     ],
     "input": [
      "letters['lowercase']"
     ],
     "language": "python",
     "prompt_number": 32
    },
    {
     "cell_type": "code",
     "execution_count": null,
     "metadata": {},
     "outputs": [],
     "input": [
      "letters.index = pd.date_range('9/1/2012', periods = 26)"
     ],
     "language": "python",
     "prompt_number": 34
    },
    {
     "cell_type": "raw",
     "metadata": {}
    },
    {
     "cell_type": "code",
     "execution_count": null,
     "metadata": {},
     "outputs": [
      {
       "output_type": "pyout",
       "html": [
        "<div style=\"max-height:1000px;max-width:1500px;overflow:auto;\">\n",
        "<table border=\"1\" class=\"dataframe\">\n",
        "  <thead>\n",
        "    <tr style=\"text-align: right;\">\n",
        "      <th></th>\n",
        "      <th>lowercase</th>\n",
        "      <th>uppercase</th>\n",
        "      <th>numbers</th>\n",
        "    </tr>\n",
        "  </thead>\n",
        "  <tbody>\n",
        "    <tr>\n",
        "      <th>2012-09-01</th>\n",
        "      <td> a</td>\n",
        "      <td> A</td>\n",
        "      <td>  0</td>\n",
        "    </tr>\n",
        "    <tr>\n",
        "      <th>2012-09-02</th>\n",
        "      <td> b</td>\n",
        "      <td> B</td>\n",
        "      <td>  1</td>\n",
        "    </tr>\n",
        "    <tr>\n",
        "      <th>2012-09-03</th>\n",
        "      <td> c</td>\n",
        "      <td> C</td>\n",
        "      <td>  2</td>\n",
        "    </tr>\n",
        "    <tr>\n",
        "      <th>2012-09-04</th>\n",
        "      <td> d</td>\n",
        "      <td> D</td>\n",
        "      <td>  3</td>\n",
        "    </tr>\n",
        "    <tr>\n",
        "      <th>2012-09-05</th>\n",
        "      <td> e</td>\n",
        "      <td> E</td>\n",
        "      <td>  4</td>\n",
        "    </tr>\n",
        "    <tr>\n",
        "      <th>2012-09-06</th>\n",
        "      <td> f</td>\n",
        "      <td> F</td>\n",
        "      <td>  5</td>\n",
        "    </tr>\n",
        "    <tr>\n",
        "      <th>2012-09-07</th>\n",
        "      <td> g</td>\n",
        "      <td> G</td>\n",
        "      <td>  6</td>\n",
        "    </tr>\n",
        "    <tr>\n",
        "      <th>2012-09-08</th>\n",
        "      <td> h</td>\n",
        "      <td> H</td>\n",
        "      <td>  7</td>\n",
        "    </tr>\n",
        "    <tr>\n",
        "      <th>2012-09-09</th>\n",
        "      <td> i</td>\n",
        "      <td> I</td>\n",
        "      <td>  8</td>\n",
        "    </tr>\n",
        "    <tr>\n",
        "      <th>2012-09-10</th>\n",
        "      <td> j</td>\n",
        "      <td> J</td>\n",
        "      <td>  9</td>\n",
        "    </tr>\n",
        "    <tr>\n",
        "      <th>2012-09-11</th>\n",
        "      <td> k</td>\n",
        "      <td> K</td>\n",
        "      <td> 10</td>\n",
        "    </tr>\n",
        "    <tr>\n",
        "      <th>2012-09-12</th>\n",
        "      <td> l</td>\n",
        "      <td> L</td>\n",
        "      <td> 11</td>\n",
        "    </tr>\n",
        "    <tr>\n",
        "      <th>2012-09-13</th>\n",
        "      <td> m</td>\n",
        "      <td> M</td>\n",
        "      <td> 12</td>\n",
        "    </tr>\n",
        "    <tr>\n",
        "      <th>2012-09-14</th>\n",
        "      <td> n</td>\n",
        "      <td> N</td>\n",
        "      <td> 13</td>\n",
        "    </tr>\n",
        "    <tr>\n",
        "      <th>2012-09-15</th>\n",
        "      <td> o</td>\n",
        "      <td> O</td>\n",
        "      <td> 14</td>\n",
        "    </tr>\n",
        "    <tr>\n",
        "      <th>2012-09-16</th>\n",
        "      <td> p</td>\n",
        "      <td> P</td>\n",
        "      <td> 15</td>\n",
        "    </tr>\n",
        "    <tr>\n",
        "      <th>2012-09-17</th>\n",
        "      <td> q</td>\n",
        "      <td> Q</td>\n",
        "      <td> 16</td>\n",
        "    </tr>\n",
        "    <tr>\n",
        "      <th>2012-09-18</th>\n",
        "      <td> r</td>\n",
        "      <td> R</td>\n",
        "      <td> 17</td>\n",
        "    </tr>\n",
        "    <tr>\n",
        "      <th>2012-09-19</th>\n",
        "      <td> s</td>\n",
        "      <td> S</td>\n",
        "      <td> 18</td>\n",
        "    </tr>\n",
        "    <tr>\n",
        "      <th>2012-09-20</th>\n",
        "      <td> t</td>\n",
        "      <td> T</td>\n",
        "      <td> 19</td>\n",
        "    </tr>\n",
        "    <tr>\n",
        "      <th>2012-09-21</th>\n",
        "      <td> u</td>\n",
        "      <td> U</td>\n",
        "      <td> 20</td>\n",
        "    </tr>\n",
        "    <tr>\n",
        "      <th>2012-09-22</th>\n",
        "      <td> v</td>\n",
        "      <td> V</td>\n",
        "      <td> 21</td>\n",
        "    </tr>\n",
        "    <tr>\n",
        "      <th>2012-09-23</th>\n",
        "      <td> w</td>\n",
        "      <td> W</td>\n",
        "      <td> 22</td>\n",
        "    </tr>\n",
        "    <tr>\n",
        "      <th>2012-09-24</th>\n",
        "      <td> x</td>\n",
        "      <td> X</td>\n",
        "      <td> 23</td>\n",
        "    </tr>\n",
        "    <tr>\n",
        "      <th>2012-09-25</th>\n",
        "      <td> y</td>\n",
        "      <td> Y</td>\n",
        "      <td> 24</td>\n",
        "    </tr>\n",
        "    <tr>\n",
        "      <th>2012-09-26</th>\n",
        "      <td> z</td>\n",
        "      <td> Z</td>\n",
        "      <td> 25</td>\n",
        "    </tr>\n",
        "  </tbody>\n",
        "</table>\n",
        "</div>"
       ],
       "metadata": {}
      }
     ],
     "input": [
      "letters"
     ],
     "language": "python",
     "prompt_number": 35
    },
    {
     "cell_type": "code",
     "execution_count": null,
     "metadata": {},
     "outputs": [
      {
       "output_type": "pyout",
       "html": [
        "<div style=\"max-height:1000px;max-width:1500px;overflow:auto;\">\n",
        "<table border=\"1\" class=\"dataframe\">\n",
        "  <thead>\n",
        "    <tr style=\"text-align: right;\">\n",
        "      <th></th>\n",
        "      <th>lowercase</th>\n",
        "      <th>uppercase</th>\n",
        "      <th>numbers</th>\n",
        "    </tr>\n",
        "  </thead>\n",
        "  <tbody>\n",
        "    <tr>\n",
        "      <th>2012-09-10</th>\n",
        "      <td> j</td>\n",
        "      <td> J</td>\n",
        "      <td>  9</td>\n",
        "    </tr>\n",
        "    <tr>\n",
        "      <th>2012-09-11</th>\n",
        "      <td> k</td>\n",
        "      <td> K</td>\n",
        "      <td> 10</td>\n",
        "    </tr>\n",
        "    <tr>\n",
        "      <th>2012-09-12</th>\n",
        "      <td> l</td>\n",
        "      <td> L</td>\n",
        "      <td> 11</td>\n",
        "    </tr>\n",
        "    <tr>\n",
        "      <th>2012-09-13</th>\n",
        "      <td> m</td>\n",
        "      <td> M</td>\n",
        "      <td> 12</td>\n",
        "    </tr>\n",
        "    <tr>\n",
        "      <th>2012-09-14</th>\n",
        "      <td> n</td>\n",
        "      <td> N</td>\n",
        "      <td> 13</td>\n",
        "    </tr>\n",
        "    <tr>\n",
        "      <th>2012-09-15</th>\n",
        "      <td> o</td>\n",
        "      <td> O</td>\n",
        "      <td> 14</td>\n",
        "    </tr>\n",
        "  </tbody>\n",
        "</table>\n",
        "</div>"
       ],
       "metadata": {}
      }
     ],
     "input": [
      "letters['9-10-2012':'9-15-2012']"
     ],
     "language": "python",
     "prompt_number": 36
    },
    {
     "cell_type": "code",
     "execution_count": null,
     "metadata": {},
     "outputs": [],
     "input": [],
     "language": "python"
    }
   ]
  }
 ],
 "cells": [],
 "metadata": {
  "name": "",
  "signature": "sha256:2f5f61db2d44eebe2b423deba0529253f7d5742db10eb8a79b3533a742baf9e7"
 },
 "nbformat": 3,
 "nbformat_minor": 0
}